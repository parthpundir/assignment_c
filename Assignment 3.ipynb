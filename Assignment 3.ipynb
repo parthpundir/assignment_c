{
 "cells": [
  {
   "cell_type": "code",
   "execution_count": 1,
   "metadata": {},
   "outputs": [],
   "source": [
    "# Q1\n",
    "a=[1,2,3.354,'A String',5,6,7,8,\"Nine\",10+3j]"
   ]
  },
  {
   "cell_type": "code",
   "execution_count": 2,
   "metadata": {},
   "outputs": [
    {
     "name": "stdout",
     "output_type": "stream",
     "text": [
      "[2]\n",
      "[3, 4, 5]\n",
      "[2]\n",
      "[5, 4, 3, 2, 1]\n"
     ]
    }
   ],
   "source": [
    "# Q2\n",
    "b=[1,2,3,4,5]\n",
    "print(b[1:2])\n",
    "print(b[2:5])\n",
    "print(b[1:2:2])\n",
    "print(b[::-1])"
   ]
  },
  {
   "cell_type": "code",
   "execution_count": 3,
   "metadata": {},
   "outputs": [
    {
     "name": "stdout",
     "output_type": "stream",
     "text": [
      "Product is 120\n",
      "Sum is 15\n"
     ]
    }
   ],
   "source": [
    "# Q3\n",
    "sum_=0\n",
    "product=1\n",
    "for i in range(0,len(b)):\n",
    "    sum_=sum_+b[i]\n",
    "    product=product*b[i]\n",
    "    \n",
    "print(\"Product is\",product)\n",
    "print(\"Sum is\",sum_)\n",
    "    "
   ]
  },
  {
   "cell_type": "code",
   "execution_count": 4,
   "metadata": {},
   "outputs": [
    {
     "name": "stdout",
     "output_type": "stream",
     "text": [
      "Min num is 1\n",
      "Max num is 5\n"
     ]
    }
   ],
   "source": [
    "#4\n",
    "print(\"Min num is\", min(b))\n",
    "print(\"Max num is\", max(b))"
   ]
  },
  {
   "cell_type": "code",
   "execution_count": 5,
   "metadata": {},
   "outputs": [
    {
     "name": "stdout",
     "output_type": "stream",
     "text": [
      "Enter length of the list: 10\n",
      "Enter start of new list: 2\n",
      "Enter end of new list: 8\n",
      "orignal list is:  [0, 1, 2, 3, 4, 5, 6, 7, 8, 9]\n",
      "New list is:  [1, 3, 5, 7, 9]\n"
     ]
    }
   ],
   "source": [
    "#5\n",
    "d = []\n",
    "length=int(input(\"Enter length of the list: \"))\n",
    "start=int(input(\"Enter start of new list: \"))\n",
    "end=int(input(\"Enter end of new list: \"))+1\n",
    "c = list(range(0,length))\n",
    "print(\"orignal list is: \",c)\n",
    "for i in range(0,len(c)):\n",
    "    if c[i]%2!=0:\n",
    "        d.append(c[i])\n",
    "    else:\n",
    "        pass\n",
    "print(\"New list is: \",d)"
   ]
  },
  {
   "cell_type": "code",
   "execution_count": 6,
   "metadata": {},
   "outputs": [
    {
     "name": "stdout",
     "output_type": "stream",
     "text": [
      "[1, 4, 9, 16, 25, 6, 7, 8, 9, 10, 11, 12, 13, 14, 15, 16, 17, 18, 19, 20, 21, 22, 23, 24, 25, 676, 729, 784, 841, 900]\n"
     ]
    }
   ],
   "source": [
    "#6\n",
    "simp_list = list(range(1,31,1))\n",
    "sqr_list=[]\n",
    "for i in simp_list:\n",
    "    if simp_list[i-1]<6 or simp_list[i-1]>25:\n",
    "        sqr_list.append(simp_list[i-1]**2)\n",
    "    else:\n",
    "        sqr_list.append(simp_list[i-1])\n",
    "print(sqr_list)\n",
    "\n"
   ]
  },
  {
   "cell_type": "code",
   "execution_count": 7,
   "metadata": {},
   "outputs": [
    {
     "name": "stdout",
     "output_type": "stream",
     "text": [
      "[1, 2, 3, 4, 5, 7, 8, 9]\n"
     ]
    }
   ],
   "source": [
    "#7\n",
    "list1=[1,2,3,4,5,6]\n",
    "list2=[7,8,9]\n",
    "list1=list1[:-1]+list2\n",
    "print(list1)"
   ]
  },
  {
   "cell_type": "code",
   "execution_count": 8,
   "metadata": {},
   "outputs": [
    {
     "data": {
      "text/plain": [
       "{1: 2, 3: 4, 5: 6, 7: 9}"
      ]
     },
     "execution_count": 8,
     "metadata": {},
     "output_type": "execute_result"
    }
   ],
   "source": [
    "#8\n",
    "d1={1:2,3:4}\n",
    "d2={5:6,7:9}\n",
    "d1.update(d2)\n",
    "d1"
   ]
  },
  {
   "cell_type": "code",
   "execution_count": 9,
   "metadata": {},
   "outputs": [
    {
     "name": "stdout",
     "output_type": "stream",
     "text": [
      "Input a number 5\n",
      "{1: 1, 2: 4, 3: 9, 4: 16, 5: 25}\n"
     ]
    }
   ],
   "source": [
    "num=int(input(\"Input a number \"))\n",
    "d = {}\n",
    "\n",
    "for x in range(1,num+1):\n",
    "    d[x]=x*x\n",
    "\n",
    "print(d) "
   ]
  },
  {
   "cell_type": "code",
   "execution_count": 10,
   "metadata": {},
   "outputs": [
    {
     "name": "stdout",
     "output_type": "stream",
     "text": [
      "Input some numbers: 1,2,3,4,5,6\n",
      "List:  ['1', '2', '3', '4', '5', '6']\n",
      "Tuple:  ('1', '2', '3', '4', '5', '6')\n"
     ]
    }
   ],
   "source": [
    "x = input(\"Input some numbers: \")\n",
    "list1 = x.split(\",\")\n",
    "tuple1 = tuple(list1)\n",
    "print('List: ',list1)\n",
    "print('Tuple: ',tuple1)"
   ]
  },
  {
   "cell_type": "code",
   "execution_count": null,
   "metadata": {},
   "outputs": [],
   "source": []
  }
 ],
 "metadata": {
  "kernelspec": {
   "display_name": "Python 3",
   "language": "python",
   "name": "python3"
  },
  "language_info": {
   "codemirror_mode": {
    "name": "ipython",
    "version": 3
   },
   "file_extension": ".py",
   "mimetype": "text/x-python",
   "name": "python",
   "nbconvert_exporter": "python",
   "pygments_lexer": "ipython3",
   "version": "3.7.6"
  }
 },
 "nbformat": 4,
 "nbformat_minor": 4
}
