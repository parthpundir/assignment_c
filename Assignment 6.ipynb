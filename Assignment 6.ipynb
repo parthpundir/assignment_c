{
 "cells": [
  {
   "cell_type": "code",
   "execution_count": 3,
   "metadata": {},
   "outputs": [
    {
     "name": "stdout",
     "output_type": "stream",
     "text": [
      "In uppercase : ['T', 'S']\n"
     ]
    }
   ],
   "source": [
    "str1 = \"This is Something\"\n",
    "list1 = [i for i in str1 if i.isupper()]\n",
    "print(\"In uppercase : \" + str(list1))"
   ]
  },
  {
   "cell_type": "code",
   "execution_count": 4,
   "metadata": {},
   "outputs": [
    {
     "name": "stdout",
     "output_type": "stream",
     "text": [
      "{'Smit': 'CSE', 'Jaya': 'Networking', 'Rayyan': 'Operating System'}\n"
     ]
    }
   ],
   "source": [
    "students = ['Smit', 'Jaya', 'Rayyan']\n",
    "subjects = ['CSE', 'Networking', 'Operating System']\n",
    "\n",
    "dict1 = dict(zip(students, subjects))\n",
    "print(dict1)"
   ]
  },
  {
   "cell_type": "code",
   "execution_count": 7,
   "metadata": {},
   "outputs": [
    {
     "name": "stdout",
     "output_type": "stream",
     "text": [
      "g\n",
      "n\n",
      "i\n",
      "n\n",
      "i\n",
      "a\n",
      "r\n",
      "T\n",
      " \n",
      "d\n",
      "d\n",
      "a\n",
      "t\n",
      "l\n",
      "u\n",
      "s\n",
      "n\n",
      "o\n",
      "C\n"
     ]
    }
   ],
   "source": [
    "def reverse_string(my_str):\n",
    "    length = len(my_str)\n",
    "    for i in range(length-1, -1, -1):\n",
    "        yield my_str[i]\n",
    "stra=[]\n",
    "st1=''\n",
    "for char in reverse_string(\"Consultadd Training\"):\n",
    "    stra.append(char)\n",
    "    print(st1.join(char))"
   ]
  },
  {
   "cell_type": "code",
   "execution_count": 4,
   "metadata": {},
   "outputs": [
    {
     "name": "stdout",
     "output_type": "stream",
     "text": [
      "Hello, this is before function execution\n",
      "This is after function execution\n"
     ]
    }
   ],
   "source": [
    "def dec_example(func):\n",
    "\n",
    "    def inner1():\n",
    "        print(\"Before\")\n",
    "        func()\n",
    "        print(\"This is after function execution\")\n",
    "    return inner1\n",
    "\n",
    "\n",
    "def funct1():\n",
    "    print(\"This is inside the function !!\")\n",
    "\n",
    "\n",
    "funct1 = dec_example(funct1)\n",
    "# calling the function\n",
    "funct1()"
   ]
  },
  {
   "cell_type": "code",
   "execution_count": null,
   "metadata": {},
   "outputs": [],
   "source": []
  }
 ],
 "metadata": {
  "kernelspec": {
   "display_name": "Python 3",
   "language": "python",
   "name": "python3"
  },
  "language_info": {
   "codemirror_mode": {
    "name": "ipython",
    "version": 3
   },
   "file_extension": ".py",
   "mimetype": "text/x-python",
   "name": "python",
   "nbconvert_exporter": "python",
   "pygments_lexer": "ipython3",
   "version": "3.7.6"
  }
 },
 "nbformat": 4,
 "nbformat_minor": 4
}
