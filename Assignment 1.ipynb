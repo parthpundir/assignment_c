{
 "cells": [
  {
   "cell_type": "code",
   "execution_count": null,
   "metadata": {},
   "outputs": [],
   "source": [
    "#1\n",
    "a='A word'\n",
    "b=10\n",
    "c=10.55\n"
   ]
  },
  {
   "cell_type": "code",
   "execution_count": null,
   "metadata": {},
   "outputs": [],
   "source": [
    "#2"
   ]
  },
  {
   "cell_type": "code",
   "execution_count": null,
   "metadata": {},
   "outputs": [],
   "source": [
    "#3\n",
    "x=5\n",
    "y=10\n",
    "\n",
    "z=x\n",
    "x=y\n",
    "y=z\n",
    "\n",
    "print (x,y)"
   ]
  },
  {
   "cell_type": "code",
   "execution_count": null,
   "metadata": {},
   "outputs": [],
   "source": [
    "#3\n",
    "x=5\n",
    "y=10\n",
    "print (x,y)\n",
    "x,y=y,x\n",
    "print (x,y)"
   ]
  },
  {
   "cell_type": "code",
   "execution_count": null,
   "metadata": {},
   "outputs": [],
   "source": [
    "#4\n",
    "# for python 2 \n",
    "# print 'hey'\n",
    "\n",
    "#for python 3\n",
    "print('hey')"
   ]
  },
  {
   "cell_type": "code",
   "execution_count": null,
   "metadata": {},
   "outputs": [],
   "source": [
    "#5\n",
    "print('Enter 2 numbers between 1 and 10 below:')\n",
    "x=int(input('Enter first number'))\n",
    "y=int(input('Enter second number'))\n",
    "z=x+y\n",
    "result=z+30\n",
    "print('result is',result)"
   ]
  },
  {
   "cell_type": "code",
   "execution_count": null,
   "metadata": {},
   "outputs": [],
   "source": [
    "#6\n",
    "x = input(\"Enter: \")\n",
    "try:\n",
    "    if type(eval(x)) == float:\n",
    "        print(x, \" is float\")\n",
    "    elif type(eval(x)) == int:\n",
    "        print(x, \" is int\")    \n",
    "    elif type(eval(x)) == bool:\n",
    "        print(x, \" is boolean\")      \n",
    "except:\n",
    "    print(\"That is a string\")\n"
   ]
  },
  {
   "cell_type": "code",
   "execution_count": null,
   "metadata": {},
   "outputs": [],
   "source": [
    "# 7\n",
    "# sname_case\n",
    "# lowerCamelCase\n",
    "# UpperCamelCase\n",
    "\n",
    "# I have commented this out so it does not run in my notebook"
   ]
  },
  {
   "cell_type": "code",
   "execution_count": null,
   "metadata": {},
   "outputs": [],
   "source": [
    "# As demonstrated below, we can change the type of variable in python on the go\n",
    "a=int\n",
    "a=8\n",
    "print(type(a))\n",
    "print(a)\n",
    "a='string'\n",
    "print(a)\n",
    "print(type(a))\n"
   ]
  },
  {
   "cell_type": "code",
   "execution_count": null,
   "metadata": {},
   "outputs": [],
   "source": []
  }
 ],
 "metadata": {
  "kernelspec": {
   "display_name": "Python 3",
   "language": "python",
   "name": "python3"
  },
  "language_info": {
   "codemirror_mode": {
    "name": "ipython",
    "version": 3
   },
   "file_extension": ".py",
   "mimetype": "text/x-python",
   "name": "python",
   "nbconvert_exporter": "python",
   "pygments_lexer": "ipython3",
   "version": "3.7.6"
  }
 },
 "nbformat": 4,
 "nbformat_minor": 4
}
