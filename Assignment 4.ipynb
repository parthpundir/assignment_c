{
 "cells": [
  {
   "cell_type": "code",
   "execution_count": 1,
   "metadata": {},
   "outputs": [
    {
     "name": "stdout",
     "output_type": "stream",
     "text": [
      "gnirts_a_ma_i_254\n"
     ]
    }
   ],
   "source": [
    "x='452_i_am_a_string'\n",
    "print(x[::-1])"
   ]
  },
  {
   "cell_type": "code",
   "execution_count": 2,
   "metadata": {},
   "outputs": [
    {
     "name": "stdout",
     "output_type": "stream",
     "text": [
      "Enter a string: Its a strinG\n",
      "number of upper letters: 2\n",
      "number of lower letters: 8\n"
     ]
    }
   ],
   "source": [
    "u=0\n",
    "l=0\n",
    "x=input(\"Enter a string: \")\n",
    "for i in x:\n",
    "    if i.isupper():\n",
    "        u=u+1\n",
    "    elif i.islower():\n",
    "        l=l+1\n",
    "    else:\n",
    "        pass\n",
    "print(\"number of upper letters:\",u)\n",
    "print(\"number of lower letters:\",l)"
   ]
  },
  {
   "cell_type": "code",
   "execution_count": 3,
   "metadata": {},
   "outputs": [
    {
     "name": "stdout",
     "output_type": "stream",
     "text": [
      "[1, 2, 3, 4, 5, 6, 7, 8, 9]\n"
     ]
    }
   ],
   "source": [
    "x=[1,2,3,4,5,6,7,8,9,9,6,3,2,5,8,7,4,1]\n",
    "y = []\n",
    "for i in x:\n",
    "    if i not in y:\n",
    "        y.append(i)\n",
    "print(y)"
   ]
  },
  {
   "cell_type": "code",
   "execution_count": 4,
   "metadata": {},
   "outputs": [
    {
     "name": "stdout",
     "output_type": "stream",
     "text": [
      "Enter the string: Def-a-str-not-a-int\n",
      "Def-a-a-int-not-str\n"
     ]
    }
   ],
   "source": [
    "x=input(\"Enter the string: \") \n",
    "a=x.split('-') \n",
    "a.sort() \n",
    "print('-'.join(a))"
   ]
  },
  {
   "cell_type": "code",
   "execution_count": 5,
   "metadata": {},
   "outputs": [
    {
     "name": "stdout",
     "output_type": "stream",
     "text": [
      "Enter the string: its all lower\n",
      "ITS ALL LOWER\n"
     ]
    }
   ],
   "source": [
    "x=input(\"Enter the string: \")\n",
    "print(x.upper())"
   ]
  },
  {
   "cell_type": "code",
   "execution_count": 6,
   "metadata": {},
   "outputs": [
    {
     "name": "stdout",
     "output_type": "stream",
     "text": [
      "9\n"
     ]
    }
   ],
   "source": [
    "def add(x,y):\n",
    "    z=int(x)+int(y)\n",
    "    print(z)\n",
    "num1=5\n",
    "num2=4\n",
    "add(num1,num2)"
   ]
  },
  {
   "cell_type": "code",
   "execution_count": 7,
   "metadata": {},
   "outputs": [
    {
     "name": "stdout",
     "output_type": "stream",
     "text": [
      "Enter string 1: i am sooo done\n",
      "Enter string b: with mosquitos\n",
      "i am sooo done\n",
      "with mosquitos\n"
     ]
    }
   ],
   "source": [
    "a=input(\"Enter string 1: \")\n",
    "b=input(\"Enter string b: \")\n",
    "if len(a)>len(b):\n",
    "    print(a)\n",
    "elif len(a)<len(b):\n",
    "    print(b)\n",
    "else:\n",
    "    print(a)\n",
    "    print(b)"
   ]
  },
  {
   "cell_type": "code",
   "execution_count": 8,
   "metadata": {},
   "outputs": [
    {
     "name": "stdout",
     "output_type": "stream",
     "text": [
      "<class 'tuple'>\n",
      "(1, 4, 9, 16, 25, 36, 49, 64, 81, 100, 121, 144, 169, 196, 225, 256, 289, 324, 361, 400)\n"
     ]
    }
   ],
   "source": [
    "def tple():\n",
    "    l = []\n",
    "    for i in range(1,21):\n",
    "        l.append(i**2)\n",
    "    t=tuple(l)\n",
    "    print(type(t))\n",
    "    print(t)\n",
    "\n",
    "tple()"
   ]
  },
  {
   "cell_type": "code",
   "execution_count": 9,
   "metadata": {},
   "outputs": [
    {
     "name": "stdout",
     "output_type": "stream",
     "text": [
      "0 EVEN\n",
      "1 ODD\n",
      "2 EVEN\n",
      "3 ODD\n",
      "4 EVEN\n"
     ]
    }
   ],
   "source": [
    "def showNumbers(limit):\n",
    "    i=0\n",
    "    while i<limit+1:\n",
    "        if i%2==0:\n",
    "            print(i,\"EVEN\")\n",
    "        else:\n",
    "            print(i,\"ODD\")\n",
    "        i=i+1\n",
    "showNumbers(4)"
   ]
  },
  {
   "cell_type": "code",
   "execution_count": 10,
   "metadata": {},
   "outputs": [
    {
     "name": "stdout",
     "output_type": "stream",
     "text": [
      "[2, 4, 6, 8, 10, 12, 14, 16, 18, 20]\n"
     ]
    }
   ],
   "source": [
    "x = list(range(1,21,1))\n",
    "result = filter(lambda x: x % 2 == 0, x)\n",
    "print(list(result))"
   ]
  },
  {
   "cell_type": "code",
   "execution_count": 11,
   "metadata": {},
   "outputs": [
    {
     "name": "stdout",
     "output_type": "stream",
     "text": [
      "[4, 16, 36, 64, 100]\n"
     ]
    }
   ],
   "source": [
    "l = [1,2,3,4,5,6,7,8,9,10]\n",
    " \n",
    "even_sqr= map(lambda x: x**2, filter(lambda   x: x%2==0, l))\n",
    " \n",
    "print(list(even_sqr))"
   ]
  },
  {
   "cell_type": "code",
   "execution_count": 12,
   "metadata": {},
   "outputs": [
    {
     "name": "stdout",
     "output_type": "stream",
     "text": [
      "Not possible\n"
     ]
    }
   ],
   "source": [
    "def divide():\n",
    "    return 5/0\n",
    "\n",
    "try:\n",
    "    divide()\n",
    "except ZeroDivisionError:\n",
    "    print(\"Not possible\")\n"
   ]
  },
  {
   "cell_type": "code",
   "execution_count": 13,
   "metadata": {},
   "outputs": [
    {
     "data": {
      "text/plain": [
       "1234567"
      ]
     },
     "execution_count": 13,
     "metadata": {},
     "output_type": "execute_result"
    }
   ],
   "source": [
    "from functools import reduce\n",
    "reduce(lambda a,d: 10*a+d, [1,2,3,4,5,6,7])\n"
   ]
  },
  {
   "cell_type": "code",
   "execution_count": 14,
   "metadata": {},
   "outputs": [
    {
     "name": "stdout",
     "output_type": "stream",
     "text": [
      "[7, 14, 28, 35, 49, 56, 70, 77, 91, 98]\n"
     ]
    }
   ],
   "source": [
    "x = list(range(1,111,1))\n",
    "result = filter(lambda x: x%7==0 and x%3!=0, x)\n",
    "print(list(result))"
   ]
  },
  {
   "cell_type": "code",
   "execution_count": 15,
   "metadata": {},
   "outputs": [
    {
     "name": "stdout",
     "output_type": "stream",
     "text": [
      "[1, 2, 3, 4]\n"
     ]
    }
   ],
   "source": [
    "a_list = [1,2,3,4]\n",
    "print(a_list)\n",
    "def mlt(b):\n",
    "    y_num=1\n",
    "    for x_num in b:\n",
    "        y_num=y_num*x_num\n",
    "        return(y_num)\n",
    "stp=map(mlt,a_list)\n",
    "\n",
    "\n",
    "    "
   ]
  },
  {
   "cell_type": "code",
   "execution_count": 16,
   "metadata": {},
   "outputs": [
    {
     "name": "stdout",
     "output_type": "stream",
     "text": [
      "[1, 4, 9, 16, 25, 36]\n"
     ]
    }
   ],
   "source": [
    "list_x=[1,2,3,4,5,6]\n",
    "def multiply(x):\n",
    "    return x*x\n",
    "       \n",
    "x_y=(map(multiply,list_x))\n",
    "print(list(x_y))"
   ]
  },
  {
   "cell_type": "code",
   "execution_count": null,
   "metadata": {},
   "outputs": [],
   "source": []
  }
 ],
 "metadata": {
  "kernelspec": {
   "display_name": "Python 3",
   "language": "python",
   "name": "python3"
  },
  "language_info": {
   "codemirror_mode": {
    "name": "ipython",
    "version": 3
   },
   "file_extension": ".py",
   "mimetype": "text/x-python",
   "name": "python",
   "nbconvert_exporter": "python",
   "pygments_lexer": "ipython3",
   "version": "3.7.6"
  }
 },
 "nbformat": 4,
 "nbformat_minor": 4
}
