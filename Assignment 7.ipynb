{
 "cells": [
  {
   "cell_type": "code",
   "execution_count": 1,
   "metadata": {},
   "outputs": [
    {
     "name": "stdout",
     "output_type": "stream",
     "text": [
      "Enter D value : 55\n",
      "13.5400640077266\n"
     ]
    }
   ],
   "source": [
    "#1\n",
    "import math\n",
    "C = 50\n",
    "H = 30\n",
    "D = int(input(\"Enter D value : \"))\n",
    "Q = math.sqrt((2*C*D)/H)\n",
    "print(Q)\n"
   ]
  },
  {
   "cell_type": "code",
   "execution_count": 3,
   "metadata": {},
   "outputs": [
    {
     "name": "stdout",
     "output_type": "stream",
     "text": [
      "81\n",
      "0\n"
     ]
    }
   ],
   "source": [
    "class Shape():\n",
    "    def __init__(self):\n",
    "        pass\n",
    "    def area(self):\n",
    "        return 0\n",
    "class Square(Shape):\n",
    "    def __init__(self, length=0):\n",
    "        Shape.__init__(self)\n",
    "        self.length = length\n",
    "    def area(self):\n",
    "        return self.length*self.length\n",
    "sqr = Square(9)\n",
    "print(sqr.area())      \n",
    "print(Square().area())  "
   ]
  },
  {
   "cell_type": "code",
   "execution_count": 17,
   "metadata": {},
   "outputs": [
    {
     "name": "stdout",
     "output_type": "stream",
     "text": [
      "[[-10, 2, 8], [-7, -3, 10]]\n"
     ]
    }
   ],
   "source": [
    "class three_num:\n",
    "    def zero(self,num):\n",
    "        num.sort()\n",
    "        num_list=[]\n",
    "        i=0\n",
    "        for i in range(0,len(num)-2):\n",
    "            for j in range(i+1,len(num)-1):\n",
    "                for k in range(j+1,len(num)):\n",
    "                    if num[i]+num[j]+num[k]==0:\n",
    "                        num_list.append([num[i],num[j],num[k]])\n",
    "        return num_list\n",
    "obj1=three_num()\n",
    "num_list=obj1.zero([-25,-10,-7,-3,2,4,8,10])\n",
    "print(num_list)"
   ]
  },
  {
   "cell_type": "code",
   "execution_count": 22,
   "metadata": {},
   "outputs": [
    {
     "name": "stdout",
     "output_type": "stream",
     "text": [
      "170 Total Minutes\n",
      "80 Total Minutes\n",
      "4  Hr  10  Min\n"
     ]
    }
   ],
   "source": [
    "class Time:\n",
    "    def __init__(self, hours, minutes):\n",
    "        self.hours = hours\n",
    "        self.minutes = minutes\n",
    "    def addTime(self, a):\n",
    "        temp = (((self.hours+a.hours)*60)+(self.minutes+a.minutes))\n",
    "        self.totalHours = temp//60\n",
    "        self.totalMinutes = temp%60\n",
    "    def displayTime(self):\n",
    "        print(self.totalHours, \" Hr \", self.totalMinutes, \" Min\")\n",
    "    def displayMinute(self):\n",
    "        print(self.hours * 60 + self.minutes, \"Total Minutes\")\n",
    "Obj1 = Time(2, 50)\n",
    "Obj1.displayMinute()\n",
    "Obj2 = Time(1, 20)\n",
    "Obj2.displayMinute()\n",
    "Obj1.addTime(Obj2)\n",
    "Obj1.displayTime()\n"
   ]
  },
  {
   "cell_type": "code",
   "execution_count": 48,
   "metadata": {},
   "outputs": [
    {
     "name": "stdout",
     "output_type": "stream",
     "text": [
      "You are young.\n",
      "New age is 40\n"
     ]
    }
   ],
   "source": [
    "  class Person:\n",
    "    age = 0\n",
    "\n",
    "    def __init__(self,age1):\n",
    "        if age1 < 0:\n",
    "            print(\"Age is not valid, setting age to 0.\")\n",
    "        else:\n",
    "            self.age = age1\n",
    "\n",
    "    def old(self):\n",
    "        if self.age < 13 and self.age >0:\n",
    "            print(\"You are young.\")\n",
    "        elif self.age >= 13 and self.age < 18:\n",
    "              print(\"You are a teenager.\")\n",
    "        elif self.age >=18:\n",
    "            print(\"You are old.\")\n",
    "        else:\n",
    "            print(\"Invaid age. You aren't born yet\")\n",
    "\n",
    "    def addyears(self, num):\n",
    "\n",
    "        self.age += num\n",
    "        print(\"New age is\", self.age)\n",
    "\n",
    "\n",
    "personObj = Person(10)\n",
    "personObj.old()\n",
    "personObj.addyears(30)"
   ]
  },
  {
   "cell_type": "code",
   "execution_count": null,
   "metadata": {},
   "outputs": [],
   "source": []
  }
 ],
 "metadata": {
  "kernelspec": {
   "display_name": "Python 3",
   "language": "python",
   "name": "python3"
  },
  "language_info": {
   "codemirror_mode": {
    "name": "ipython",
    "version": 3
   },
   "file_extension": ".py",
   "mimetype": "text/x-python",
   "name": "python",
   "nbconvert_exporter": "python",
   "pygments_lexer": "ipython3",
   "version": "3.7.6"
  }
 },
 "nbformat": 4,
 "nbformat_minor": 4
}
