{
 "cells": [
  {
   "cell_type": "code",
   "execution_count": 11,
   "metadata": {},
   "outputs": [
    {
     "name": "stdout",
     "output_type": "stream",
     "text": [
      "Enter a number: 3\n",
      "Consultadd\n"
     ]
    }
   ],
   "source": [
    "#1\n",
    "x=int(input(\"Enter a number: \"))\n",
    "if x%15==0:\n",
    "    print('Consultadd-Python Training')\n",
    "elif x%5==0:\n",
    "    print('Python Training')\n",
    "elif x%3==0:\n",
    "    print('Consultadd')"
   ]
  },
  {
   "cell_type": "code",
   "execution_count": 29,
   "metadata": {},
   "outputs": [
    {
     "name": "stdout",
     "output_type": "stream",
     "text": [
      "Enter two numbers below\n",
      "Enter 1st number: 5\n",
      "Enter 2nd number: -9\n",
      "Select desired operation:\n",
      "Enter 1 for addition\n",
      "Enter 2 for substraction\n",
      "Enter 3 for division\n",
      "Enter 4 for multiplication\n",
      "Enter 5 for average of 4 numbers  1\n",
      "NEGATIVE  -4\n"
     ]
    }
   ],
   "source": [
    "#2\n",
    "\n",
    "print('Enter two numbers below')\n",
    "num1=int(input('Enter 1st number: '))\n",
    "num2=int(input('Enter 2nd number: '))\n",
    "opr=int(input(\"Select desired operation:\\nEnter 1 for addition\\nEnter 2 for substraction\\nEnter 3 for division\\nEnter 4 for multiplication\\nEnter 5 for average of 4 numbers  \"))\n",
    "if opr==1:\n",
    "    result=num1+num2\n",
    "    if result<0:\n",
    "        print('NEGATIVE ',result)\n",
    "    else:\n",
    "        print(result)\n",
    "elif opr==2:\n",
    "    result=num1-num2\n",
    "    if result<0:\n",
    "        print('NEGATIVE ',result)\n",
    "    else:\n",
    "        print(result)\n",
    "elif opr==3:\n",
    "    result=num1/num2\n",
    "    if result<0:\n",
    "        print('NEGATIVE ',result)\n",
    "    else:\n",
    "        print(result)\n",
    "elif opr==4:\n",
    "    result=num1*num2\n",
    "    if result<0:\n",
    "        print('NEGATIVE ',result)\n",
    "    else:\n",
    "        print(result)\n",
    "elif opr==5:\n",
    "    print('Enter two more numbers below')\n",
    "    num3=int(input('Enter 3rd number: '))\n",
    "    num4=int(input('Enter 4th number: '))\n",
    "    result=(num1+num2+num3+num4)/4\n",
    "    if result<0:\n",
    "        print('NEGATIVE ',result)\n",
    "    else:\n",
    "        print(result)\n"
   ]
  },
  {
   "cell_type": "code",
   "execution_count": 33,
   "metadata": {},
   "outputs": [
    {
     "name": "stdout",
     "output_type": "stream",
     "text": [
      "avg=  20.0\n",
      "Avg is just higher than a\n"
     ]
    }
   ],
   "source": [
    "#3\n",
    "a=10\n",
    "b=20\n",
    "c=30\n",
    "avg=(a+b+c)/3\n",
    "print('avg= ',avg)\n",
    "if avg>a and avg>b and avg>c:\n",
    "    print('Avg is higher than a,b and c')\n",
    "else:\n",
    "    if avg>a and avg>b:\n",
    "        print('Avg is higher than a,b and c')\n",
    "    else:\n",
    "        if avg>a and avg>c:\n",
    "            print('Avg is higher than a and c')\n",
    "        else:\n",
    "            if avg>b and avg>c:\n",
    "                print('Avg is higher than b and c')\n",
    "            else:\n",
    "                if avg>a:\n",
    "                    print('Avg is just higher than a')\n",
    "                else:\n",
    "                    if avg>b:\n",
    "                        print('Avg is just higher than b')\n",
    "                    else:\n",
    "                        if avg>c:\n",
    "                            print('Avg is just higher than c')\n",
    "                        "
   ]
  },
  {
   "cell_type": "code",
   "execution_count": 36,
   "metadata": {},
   "outputs": [
    {
     "name": "stdout",
     "output_type": "stream",
     "text": [
      "Enter a number: 0\n",
      "Good Going\n",
      "Enter a number: 4\n",
      "Good Going\n",
      "Enter a number: -1\n",
      "It's over\n"
     ]
    }
   ],
   "source": [
    "#4\n",
    "x=10\n",
    "while x==10:\n",
    "    y=int(input('Enter a number: '))\n",
    "    if y<0:\n",
    "        print(\"It's over\")\n",
    "        break\n",
    "    else:\n",
    "        print(\"Good Going\")\n",
    "        continue"
   ]
  },
  {
   "cell_type": "code",
   "execution_count": 37,
   "metadata": {},
   "outputs": [
    {
     "name": "stdout",
     "output_type": "stream",
     "text": [
      "[2002, 2009, 2016, 2023, 2037, 2044, 2051, 2058, 2072, 2079, 2086, 2093, 2107, 2114, 2121, 2128, 2142, 2149, 2156, 2163, 2177, 2184, 2191, 2198, 2212, 2219, 2226, 2233, 2247, 2254, 2261, 2268, 2282, 2289, 2296, 2303, 2317, 2324, 2331, 2338, 2352, 2359, 2366, 2373, 2387, 2394, 2401, 2408, 2422, 2429, 2436, 2443, 2457, 2464, 2471, 2478, 2492, 2499, 2506, 2513, 2527, 2534, 2541, 2548, 2562, 2569, 2576, 2583, 2597, 2604, 2611, 2618, 2632, 2639, 2646, 2653, 2667, 2674, 2681, 2688, 2702, 2709, 2716, 2723, 2737, 2744, 2751, 2758, 2772, 2779, 2786, 2793, 2807, 2814, 2821, 2828, 2842, 2849, 2856, 2863, 2877, 2884, 2891, 2898, 2912, 2919, 2926, 2933, 2947, 2954, 2961, 2968, 2982, 2989, 2996, 3003, 3017, 3024, 3031, 3038, 3052, 3059, 3066, 3073, 3087, 3094, 3101, 3108, 3122, 3129, 3136, 3143, 3157, 3164, 3171, 3178, 3192, 3199]\n"
     ]
    }
   ],
   "source": [
    "#5\n",
    "list_of_num=[]\n",
    "for x in range(2000,3200):\n",
    "    if x%5==0 and x%7==0:\n",
    "        pass\n",
    "    elif x%7==0:\n",
    "        list_of_num.append(x)\n",
    "print(list_of_num)"
   ]
  },
  {
   "cell_type": "code",
   "execution_count": 41,
   "metadata": {},
   "outputs": [
    {
     "name": "stdout",
     "output_type": "stream",
     "text": [
      "0\n",
      "error\n",
      "1\n",
      "error\n",
      "2\n"
     ]
    }
   ],
   "source": [
    "i=0\n",
    "while i<5:\n",
    "    print(i)\n",
    "    i+=1\n",
    "    if i==3:\n",
    "        break\n",
    "    else:\n",
    "        print('error')"
   ]
  },
  {
   "cell_type": "code",
   "execution_count": 39,
   "metadata": {},
   "outputs": [],
   "source": [
    "#6 We will get an error as we can not itrate through 123"
   ]
  },
  {
   "cell_type": "code",
   "execution_count": 42,
   "metadata": {},
   "outputs": [],
   "source": [
    "#6\n",
    "# output =\n",
    "# 0\n",
    "# error\n",
    "# 1\n",
    "# error\n",
    "# 2"
   ]
  },
  {
   "cell_type": "code",
   "execution_count": 44,
   "metadata": {},
   "outputs": [
    {
     "name": "stdout",
     "output_type": "stream",
     "text": [
      "0\n",
      "1\n",
      "2\n",
      "4\n",
      "5\n"
     ]
    }
   ],
   "source": [
    "#7\n",
    "for i in range(0,7):\n",
    "    if i==3 or i==6:\n",
    "        continue\n",
    "    else:\n",
    "        print(i)"
   ]
  },
  {
   "cell_type": "code",
   "execution_count": 45,
   "metadata": {},
   "outputs": [
    {
     "name": "stdout",
     "output_type": "stream",
     "text": [
      "Input a stringasddfg55dfg55\n",
      "Letters 9\n",
      "Digits 4\n"
     ]
    }
   ],
   "source": [
    "#8\n",
    "x = input(\"Input a string\")\n",
    "digit=letter=0\n",
    "for i in x:\n",
    "    if i.isdigit():\n",
    "        digit=digit+1\n",
    "    elif i.isalpha():\n",
    "        letter=letter+1\n",
    "    else:\n",
    "        pass\n",
    "print(\"Letters\", letter)\n",
    "print(\"Digits\", digit)"
   ]
  },
  {
   "cell_type": "code",
   "execution_count": 4,
   "metadata": {},
   "outputs": [
    {
     "name": "stdout",
     "output_type": "stream",
     "text": [
      "Guess the lucky number\n",
      "Enter a number: 17\n",
      "YAY!!\n"
     ]
    }
   ],
   "source": [
    "#9\n",
    "answer='yes'\n",
    "number=17\n",
    "print('Guess the lucky number')\n",
    "while answer!='no':\n",
    "    x=int(input('Enter a number: '))\n",
    "    if x==number:\n",
    "        print('YAY!!')\n",
    "        answer='no'\n",
    "    else:\n",
    "        answer=input('Do you want to guess again? yes/no ')"
   ]
  },
  {
   "cell_type": "code",
   "execution_count": 5,
   "metadata": {},
   "outputs": [
    {
     "name": "stdout",
     "output_type": "stream",
     "text": [
      "Enter a number: 5\n",
      "Try again!\n",
      "Enter a number: 5\n",
      "Try again!\n",
      "Enter a number: 14\n",
      "Try again!\n",
      "Enter a number: 17\n",
      "Good guess!\n",
      "Enter a number: 17\n",
      "Good guess!\n"
     ]
    }
   ],
   "source": [
    "#10\n",
    "number=17\n",
    "counter=1\n",
    "while counter<= 5:\n",
    "    x=int(input('Enter a number: '))\n",
    "    if x==number:\n",
    "        print('Good guess!')\n",
    "        counter=counter+1\n",
    "    else:\n",
    "        print('Try again!')\n",
    "        counter=counter+1"
   ]
  },
  {
   "cell_type": "code",
   "execution_count": null,
   "metadata": {},
   "outputs": [
    {
     "name": "stdout",
     "output_type": "stream",
     "text": [
      "Enter a number: 1\n",
      "Try again!\n",
      "Enter a number: 2\n",
      "Try again!\n",
      "Enter a number: 3\n",
      "Try again!\n",
      "Enter a number: 4\n",
      "Try again!\n",
      "Enter a number: 5\n",
      "Sorry but that was not very successful\n"
     ]
    }
   ],
   "source": [
    "#11\n",
    "number=17\n",
    "counter=1\n",
    "while counter<= 5:\n",
    "    x=int(input('Enter a number: '))\n",
    "    if x==number:\n",
    "        print('Good guess!')\n",
    "        break\n",
    "    elif counter==5:\n",
    "        print('Sorry but that was not very successful')\n",
    "    else:\n",
    "        print('Try again!')\n",
    "        counter=counter+1\n"
   ]
  },
  {
   "cell_type": "code",
   "execution_count": null,
   "metadata": {},
   "outputs": [],
   "source": []
  }
 ],
 "metadata": {
  "kernelspec": {
   "display_name": "Python 3",
   "language": "python",
   "name": "python3"
  },
  "language_info": {
   "codemirror_mode": {
    "name": "ipython",
    "version": 3
   },
   "file_extension": ".py",
   "mimetype": "text/x-python",
   "name": "python",
   "nbconvert_exporter": "python",
   "pygments_lexer": "ipython3",
   "version": "3.7.6"
  }
 },
 "nbformat": 4,
 "nbformat_minor": 4
}
